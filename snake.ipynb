{
 "cells": [
  {
   "cell_type": "markdown",
   "metadata": {},
   "source": [
    "#### def, sum(), return, input, int(), print"
   ]
  },
  {
   "cell_type": "code",
   "execution_count": 1,
   "metadata": {},
   "outputs": [
    {
     "name": "stdout",
     "output_type": "stream",
     "text": [
      "Sum of 20 and 10 and 30 is 60\n"
     ]
    }
   ],
   "source": [
    "def sum(a, b, c):\n",
    "    return (a + b + c)\n",
    "\n",
    "a = int(input('Enter 1st number: '))\n",
    "b = int(input('Enter 2nd number: '))\n",
    "c = int(input('Enter 3d number: '))\n",
    "\n",
    "print(f'Sum of {a} and {b} and {c} is {sum(a, b, c)}')"
   ]
  },
  {
   "cell_type": "markdown",
   "metadata": {},
   "source": [
    "#### Caesar's shift cipher\n",
    "Is one of the simplest and most widely known encryption techniques."
   ]
  },
  {
   "cell_type": "code",
   "execution_count": 16,
   "metadata": {},
   "outputs": [
    {
     "name": "stdout",
     "output_type": "stream",
     "text": [
      "QDCDU\n"
     ]
    }
   ],
   "source": [
    "# Declaration block\n",
    "def encode_letter(c, K=3):\n",
    "    return chr((ord(c) - ord(\"A\") + K) % 26 + ord(\"A\"))\n",
    "\n",
    "# Writing block\n",
    "S = input()\n",
    "K = int(input())\n",
    "\n",
    "# Conversion block\n",
    "encoded_s = \"\"\n",
    "for c in S:\n",
    "    encoded_s += encode_letter(c, K)\n",
    "\n",
    "# Output block\n",
    "print(encoded_s)"
   ]
  },
  {
   "cell_type": "markdown",
   "metadata": {},
   "source": [
    "Inverse algorithm:"
   ]
  },
  {
   "cell_type": "code",
   "execution_count": 17,
   "metadata": {},
   "outputs": [
    {
     "name": "stdout",
     "output_type": "stream",
     "text": [
      "NAZAR\n"
     ]
    }
   ],
   "source": [
    "# Declaration block\n",
    "def encode_letter(c, K=3):\n",
    "    return chr((ord(c) - ord(\"A\") + K) % 26 + ord(\"A\"))\n",
    "def decode_letter(c, K=3):\n",
    "    return encode_letter(c, -K)\n",
    "\n",
    "# Writing block\n",
    "S = input()\n",
    "K = int(input())\n",
    "\n",
    "# Conversion block\n",
    "# encoded_s = \"\"\n",
    "decoded_s = \"\"\n",
    "for c in S:\n",
    "    # encoded_s += encode_letter(c, K)\n",
    "    decoded_s += decode_letter(c, K)\n",
    "\n",
    "# Output block\n",
    "# print(encoded_s)\n",
    "print(decoded_s)"
   ]
  },
  {
   "cell_type": "markdown",
   "metadata": {},
   "source": [
    "#### Fibonacci Recursion"
   ]
  },
  {
   "cell_type": "code",
   "execution_count": 2,
   "metadata": {},
   "outputs": [
    {
     "name": "stdout",
     "output_type": "stream",
     "text": [
      "8\n"
     ]
    }
   ],
   "source": [
    "def fibonacci(n):\n",
    "    if n < 2:\n",
    "        return 1\n",
    "    else:\n",
    "        return fibonacci(n-1) + fibonacci(n-2)\n",
    "c = fibonacci(5) # enter any num here\n",
    "print(c)\n"
   ]
  },
  {
   "cell_type": "markdown",
   "metadata": {},
   "source": [
    "#### Queue Data Structure"
   ]
  },
  {
   "cell_type": "code",
   "execution_count": 10,
   "metadata": {},
   "outputs": [
    {
     "name": "stdout",
     "output_type": "stream",
     "text": [
      "5\n"
     ]
    }
   ],
   "source": [
    "from queue import Queue\n",
    "q = Queue()\n",
    "q.put(3)\n",
    "q.put(5)\n",
    "print(q.get()) # output is 3"
   ]
  },
  {
   "cell_type": "markdown",
   "metadata": {},
   "source": [
    "#### Stack Data Structure"
   ]
  },
  {
   "cell_type": "code",
   "execution_count": 13,
   "metadata": {},
   "outputs": [
    {
     "name": "stdout",
     "output_type": "stream",
     "text": [
      "22\n"
     ]
    }
   ],
   "source": [
    "lst = []\n",
    "lst.append(3)\n",
    "lst.append(5)\n",
    "print(lst.pop())"
   ]
  }
 ],
 "metadata": {
  "kernelspec": {
   "display_name": "Python 3.10.4 64-bit",
   "language": "python",
   "name": "python3"
  },
  "language_info": {
   "codemirror_mode": {
    "name": "ipython",
    "version": 3
   },
   "file_extension": ".py",
   "mimetype": "text/x-python",
   "name": "python",
   "nbconvert_exporter": "python",
   "pygments_lexer": "ipython3",
   "version": "3.10.4"
  },
  "orig_nbformat": 4,
  "vscode": {
   "interpreter": {
    "hash": "a920a67cb6685505231f4042cc027b414df40756c605eb8582391e75bf396ea7"
   }
  }
 },
 "nbformat": 4,
 "nbformat_minor": 2
}
